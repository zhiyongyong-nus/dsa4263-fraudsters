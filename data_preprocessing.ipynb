{
 "cells": [
  {
   "cell_type": "code",
   "execution_count": 1,
   "metadata": {},
   "outputs": [
    {
     "name": "stderr",
     "output_type": "stream",
     "text": [
      "/Users/emmalim/anaconda3/lib/python3.11/site-packages/pandas/core/arrays/masked.py:60: UserWarning: Pandas requires version '1.3.6' or newer of 'bottleneck' (version '1.3.5' currently installed).\n",
      "  from pandas.core import (\n"
     ]
    }
   ],
   "source": [
    "import os\n",
    "import pandas as pd\n",
    "import matplotlib.pyplot as plt\n",
    "import matplotlib.dates as mdates\n",
    "import seaborn as sns\n",
    "import numpy as np\n",
    "from sklearn.ensemble import RandomForestClassifier\n",
    "from sklearn.model_selection import train_test_split\n",
    "from sklearn.metrics import classification_report, accuracy_score, confusion_matrix\n",
    "from imblearn.over_sampling import SMOTE\n",
    "from sklearn.preprocessing import StandardScaler\n",
    "import networkx as nx\n",
    "\n",
    "pd.set_option('display.max_rows', None)  # Show all rows\n",
    "pd.set_option('display.max_columns', None)  # Show all columns\n",
    "pd.set_option('display.width', None)  # Auto-adjust width\n",
    "pd.set_option('display.colheader_justify', 'left')  # Align headers properly\n",
    "pd.set_option('display.max_colwidth', None)  # Don't truncate column values"
   ]
  },
  {
   "cell_type": "code",
   "execution_count": 37,
   "metadata": {},
   "outputs": [],
   "source": [
    "ddos2018_csv = \"/Users/emmalim/Desktop/CIC-IDS2018/Processed Traffic Data for ML Algorithms/Thuesday-20-02-2018_TrafficForML_CICFlowMeter.csv\"\n",
    "ddos2017_csv = \"/Users/emmalim/Desktop/TrafficLabelling /Friday-WorkingHours-Afternoon-DDos.pcap_ISCX.csv\"\n",
    "dos2017_csv = \"/Users/emmalim/Desktop/TrafficLabelling /Wednesday-workingHours.pcap_ISCX.csv\"\n",
    "botnet2017_csv = \"/Users/emmalim/Desktop/TrafficLabelling /Friday-WorkingHours-Morning.pcap_ISCX.csv\""
   ]
  },
  {
   "cell_type": "code",
   "execution_count": 40,
   "metadata": {},
   "outputs": [],
   "source": [
    "ddos2018_df = pd.read_csv(ddos2018_csv)\n",
    "ddos2017_df = pd.read_csv(ddos2017_csv)\n",
    "dos2017_df = pd.read_csv(dos2017_csv)\n",
    "botnet2017_df = pd.read_csv(botnet2017_csv)"
   ]
  },
  {
   "cell_type": "markdown",
   "metadata": {},
   "source": [
    "## Data Cleaning"
   ]
  },
  {
   "cell_type": "code",
   "execution_count": 41,
   "metadata": {},
   "outputs": [],
   "source": [
    "ddos2017_df.columns = ddos2017_df.columns.str.strip()\n",
    "ddos2018_df.columns = ddos2018_df.columns.str.strip()\n",
    "dos2017_df.columns = dos2017_df.columns.str.strip()\n",
    "botnet2017_df.columns = botnet2017_df.columns.str.strip()"
   ]
  },
  {
   "cell_type": "code",
   "execution_count": 42,
   "metadata": {},
   "outputs": [],
   "source": [
    "ddos2017_df = ddos2017_df.drop(columns=[\"Fwd Header Length.1\"], errors=\"ignore\")\n",
    "dos2017_df = dos2017_df.drop(columns=[\"Fwd Header Length.1\"], errors=\"ignore\")\n",
    "botnet2017_df = botnet2017_df.drop(columns=[\"Fwd Header Length.1\"], errors=\"ignore\")"
   ]
  },
  {
   "cell_type": "code",
   "execution_count": 27,
   "metadata": {},
   "outputs": [],
   "source": [
    "column_mapping = {\n",
    "    \"Src IP\": \"Source IP\",\n",
    "    \"Src Port\": \"Source Port\",\n",
    "    \"Dst IP\": \"Destination IP\",\n",
    "    \"Dst Port\": \"Destination Port\",\n",
    "    \"Tot Fwd Pkts\": \"Total Fwd Packets\",\n",
    "    \"Tot Bwd Pkts\": \"Total Backward Packets\",\n",
    "    \"TotLen Fwd Pkts\": \"Total Length of Fwd Packets\",\n",
    "    \"TotLen Bwd Pkts\": \"Total Length of Bwd Packets\",\n",
    "    \"Fwd Pkt Len Max\": \"Fwd Packet Length Max\",\n",
    "    \"Fwd Pkt Len Min\": \"Fwd Packet Length Min\",\n",
    "    \"Fwd Pkt Len Mean\": \"Fwd Packet Length Mean\",\n",
    "    \"Fwd Pkt Len Std\": \"Fwd Packet Length Std\",\n",
    "    \"Bwd Pkt Len Max\": \"Bwd Packet Length Max\",\n",
    "    \"Bwd Pkt Len Min\": \"Bwd Packet Length Min\",\n",
    "    \"Bwd Pkt Len Mean\": \"Bwd Packet Length Mean\",\n",
    "    \"Bwd Pkt Len Std\": \"Bwd Packet Length Std\",\n",
    "    \"Flow Byts/s\": \"Flow Bytes/s\",\n",
    "    \"Flow Pkts/s\": \"Flow Packets/s\",\n",
    "    \"Fwd IAT Tot\": \"Fwd IAT Total\",\n",
    "    \"Bwd IAT Tot\": \"Bwd IAT Total\",\n",
    "    \"Fwd Header Len\": \"Fwd Header Length\",\n",
    "    \"Bwd Header Len\": \"Bwd Header Length\",\n",
    "    \"Fwd Pkts/s\": \"Fwd Packets/s\",\n",
    "    \"Bwd Pkts/s\": \"Bwd Packets/s\",\n",
    "    \"Pkt Len Min\": \"Min Packet Length\",\n",
    "    \"Pkt Len Max\": \"Max Packet Length\",\n",
    "    \"Pkt Len Mean\": \"Packet Length Mean\",\n",
    "    \"Pkt Len Std\": \"Packet Length Std\",\n",
    "    \"Pkt Len Var\": \"Packet Length Variance\",\n",
    "    \"FIN Flag Cnt\": \"FIN Flag Count\",\n",
    "    \"SYN Flag Cnt\": \"SYN Flag Count\",\n",
    "    \"RST Flag Cnt\": \"RST Flag Count\",\n",
    "    \"PSH Flag Cnt\": \"PSH Flag Count\",\n",
    "    \"ACK Flag Cnt\": \"ACK Flag Count\",\n",
    "    \"URG Flag Cnt\": \"URG Flag Count\",\n",
    "    \"ECE Flag Cnt\": \"ECE Flag Count\",\n",
    "    \"CWE Flag Count\": \"CWE Flag Count\",\n",
    "    \"Pkt Size Avg\": \"Average Packet Size\",\n",
    "    \"Fwd Seg Size Avg\": \"Avg Fwd Segment Size\",\n",
    "    \"Bwd Seg Size Avg\": \"Avg Bwd Segment Size\",\n",
    "    \"Init Fwd Win Byts\": \"Init_Win_bytes_forward\",\n",
    "    \"Init Bwd Win Byts\": \"Init_Win_bytes_backward\",\n",
    "    \"Fwd Act Data Pkts\": \"act_data_pkt_fwd\",\n",
    "    \"Fwd Seg Size Min\": \"min_seg_size_forward\",\n",
    "    \"Fwd Byts/b Avg\": \"Fwd Avg Bytes/Bulk\",\n",
    "    \"Bwd Blk Rate Avg\": \"Bwd Avg Bulk Rate\",\n",
    "    \"Subflow Bwd Byts\": \"Subflow Bwd Bytes\",\n",
    "    \"Subflow Fwd Pkts\": \"Subflow Fwd Packets\",\n",
    "    \"Subflow Fwd Byts\": \"Subflow Fwd Bytes\",\n",
    "    \"Fwd Blk Rate Avg\": \"Fwd Avg Bulk Rate\",\n",
    "    \"Subflow Bwd Pkts\": \"Subflow Bwd Packets\",\n",
    "    \"Fwd Pkts/b Avg\": \"Fwd Avg Packets/Bulk\",\n",
    "    \"Bwd Pkts/b Avg\": \"Bwd Avg Packets/Bulk\",\n",
    "    \"Bwd Byts/b Avg\": \"Bwd Avg Bytes/Bulk\"\n",
    "}\n",
    "ddos2018_df.rename(columns=column_mapping, inplace=True)\n"
   ]
  },
  {
   "cell_type": "code",
   "execution_count": null,
   "metadata": {},
   "outputs": [],
   "source": [
    "# Extract the hour and minute as separate columns (vectorized)\n",
    "ddos2018_df['Timestamp'] = pd.to_datetime(ddos2018_df['Timestamp'])\n",
    "ddos2018_df['hour'] = ddos2018_df['Timestamp'].dt.hour\n",
    "ddos2018_df['minute'] = ddos2018_df['Timestamp'].dt.minute\n",
    "\n",
    "# Define the time window for comparison\n",
    "start_hour, start_minute = 10, 0\n",
    "end_hour, end_minute = 11, 30\n",
    "\n",
    "# Filter rows where Timestamp is between 10:00 and 11:30\n",
    "filtered_df = ddos2018_df[(ddos2018_df['hour'] > start_hour) | \n",
    "                          ((ddos2018_df['hour'] == start_hour) & (ddos2018_df['minute'] >= start_minute))]\n",
    "\n",
    "filtered_ddos2018_df = filtered_df[(filtered_df['hour'] < end_hour) | \n",
    "                          ((filtered_df['hour'] == end_hour) & (filtered_df['minute'] <= end_minute))]"
   ]
  },
  {
   "cell_type": "markdown",
   "metadata": {},
   "source": [
    "## Save to CSV"
   ]
  },
  {
   "cell_type": "code",
   "execution_count": null,
   "metadata": {},
   "outputs": [],
   "source": [
    "# Save the cleaned 2017 dataframe\n",
    "filtered_ddos2018_df.to_csv('/Users/emmalim/Desktop/DSA4263/ddos2018_cleaned.csv', index=False)"
   ]
  },
  {
   "cell_type": "code",
   "execution_count": 52,
   "metadata": {},
   "outputs": [],
   "source": [
    "ddos2017_df.to_csv('/Users/emmalim/Desktop/DSA4263/ddos2017_cleaned.csv', index=False)\n",
    "dos2017_df.to_csv('/Users/emmalim/Desktop/DSA4263/dos2017_cleaned.csv', index=False)\n",
    "botnet2017_df.to_csv('/Users/emmalim/Desktop/DSA4263/botnet2017_cleaned.csv', index=False)"
   ]
  },
  {
   "cell_type": "code",
   "execution_count": 54,
   "metadata": {},
   "outputs": [
    {
     "name": "stdout",
     "output_type": "stream",
     "text": [
      "Label\n",
      "DDoS      128027\n",
      "BENIGN     97718\n",
      "Name: count, dtype: int64\n"
     ]
    }
   ],
   "source": [
    "print(ddos2017_df['Label'].value_counts())"
   ]
  },
  {
   "cell_type": "markdown",
   "metadata": {},
   "source": [
    "## Merge datasets"
   ]
  },
  {
   "cell_type": "code",
   "execution_count": 80,
   "metadata": {},
   "outputs": [],
   "source": [
    "ddos2018_df_cleaned = pd.read_csv('/Users/emmalim/Desktop/DSA4263/ddos2018_cleaned.csv')\n",
    "ddos2017_df_cleaned = pd.read_csv('/Users/emmalim/Desktop/DSA4263/ddos2017_cleaned.csv')\n",
    "dos2017_df_cleaned = pd.read_csv('/Users/emmalim/Desktop/DSA4263/dos2017_cleaned.csv')\n",
    "botnet2017_df_cleaned = pd.read_csv('/Users/emmalim/Desktop/DSA4263/botnet2017_cleaned.csv')"
   ]
  },
  {
   "cell_type": "code",
   "execution_count": 81,
   "metadata": {},
   "outputs": [
    {
     "name": "stdout",
     "output_type": "stream",
     "text": [
      "2018 DDoS: \n",
      "Label\n",
      "Benign                    1343290\n",
      "DDoS attacks-LOIC-HTTP     575394\n",
      "Name: count, dtype: int64\n",
      "------------------\n",
      "2017 DDoS: \n",
      "Label\n",
      "DDoS      128027\n",
      "BENIGN     97718\n",
      "Name: count, dtype: int64\n",
      "------------------\n",
      "2017 DoS: \n",
      "Label\n",
      "BENIGN              440031\n",
      "DoS Hulk            231073\n",
      "DoS GoldenEye        10293\n",
      "DoS slowloris         5796\n",
      "DoS Slowhttptest      5499\n",
      "Heartbleed              11\n",
      "Name: count, dtype: int64\n",
      "------------------\n",
      "2017 BotNet: \n",
      "Label\n",
      "BENIGN    189067\n",
      "Bot         1966\n",
      "Name: count, dtype: int64\n"
     ]
    }
   ],
   "source": [
    "print(\"2018 DDoS: \")\n",
    "print(ddos2018_df_cleaned['Label'].value_counts())\n",
    "print(\"------------------\")\n",
    "print(\"2017 DDoS: \")\n",
    "print(ddos2017_df_cleaned['Label'].value_counts())\n",
    "print(\"------------------\")\n",
    "print(\"2017 DoS: \")\n",
    "print(dos2017_df_cleaned['Label'].value_counts())\n",
    "print(\"------------------\")\n",
    "print(\"2017 BotNet: \")\n",
    "print(botnet2017_df_cleaned['Label'].value_counts())"
   ]
  },
  {
   "cell_type": "code",
   "execution_count": 82,
   "metadata": {},
   "outputs": [],
   "source": [
    "\n",
    "# Remove rows with Label == 'BENIGN'\n",
    "ddos2018_df_cleaned = ddos2018_df_cleaned.drop(columns=['hour', 'minute'])\n",
    "attack_ddos_2017 = ddos2017_df_cleaned[ddos2017_df_cleaned[\"Label\"].str.strip() != \"BENIGN\"]\n",
    "attack_dos_2017 = dos2017_df_cleaned[dos2017_df_cleaned[\"Label\"].str.strip() != \"BENIGN\"]\n",
    "attack_botnet_2017 = botnet2017_df_cleaned[botnet2017_df_cleaned[\"Label\"].str.strip() != \"BENIGN\"]"
   ]
  },
  {
   "cell_type": "code",
   "execution_count": 83,
   "metadata": {},
   "outputs": [
    {
     "data": {
      "text/plain": [
       "Label\n",
       "Bot    1966\n",
       "Name: count, dtype: int64"
      ]
     },
     "execution_count": 83,
     "metadata": {},
     "output_type": "execute_result"
    }
   ],
   "source": [
    "attack_botnet_2017['Label'].value_counts()"
   ]
  },
  {
   "cell_type": "code",
   "execution_count": 84,
   "metadata": {},
   "outputs": [
    {
     "name": "stdout",
     "output_type": "stream",
     "text": [
      "Label\n",
      "Benign                    1343290\n",
      "DDoS attacks-LOIC-HTTP     575394\n",
      "DoS Hulk                   231073\n",
      "DDoS                       128027\n",
      "DoS GoldenEye               10293\n",
      "DoS slowloris                5796\n",
      "DoS Slowhttptest             5499\n",
      "Bot                          1966\n",
      "Heartbleed                     11\n",
      "Name: count, dtype: int64\n",
      "<class 'pandas.core.frame.DataFrame'>\n",
      "RangeIndex: 2301349 entries, 0 to 2301348\n",
      "Data columns (total 84 columns):\n",
      " #   Column                       Dtype  \n",
      "---  ------                       -----  \n",
      " 0   Flow ID                      object \n",
      " 1   Source IP                    object \n",
      " 2   Source Port                  int64  \n",
      " 3   Destination IP               object \n",
      " 4   Destination Port             int64  \n",
      " 5   Protocol                     int64  \n",
      " 6   Timestamp                    object \n",
      " 7   Flow Duration                int64  \n",
      " 8   Total Fwd Packets            int64  \n",
      " 9   Total Backward Packets       int64  \n",
      " 10  Total Length of Fwd Packets  float64\n",
      " 11  Total Length of Bwd Packets  float64\n",
      " 12  Fwd Packet Length Max        float64\n",
      " 13  Fwd Packet Length Min        float64\n",
      " 14  Fwd Packet Length Mean       float64\n",
      " 15  Fwd Packet Length Std        float64\n",
      " 16  Bwd Packet Length Max        float64\n",
      " 17  Bwd Packet Length Min        float64\n",
      " 18  Bwd Packet Length Mean       float64\n",
      " 19  Bwd Packet Length Std        float64\n",
      " 20  Flow Bytes/s                 float64\n",
      " 21  Flow Packets/s               float64\n",
      " 22  Flow IAT Mean                float64\n",
      " 23  Flow IAT Std                 float64\n",
      " 24  Flow IAT Max                 float64\n",
      " 25  Flow IAT Min                 float64\n",
      " 26  Fwd IAT Total                float64\n",
      " 27  Fwd IAT Mean                 float64\n",
      " 28  Fwd IAT Std                  float64\n",
      " 29  Fwd IAT Max                  float64\n",
      " 30  Fwd IAT Min                  float64\n",
      " 31  Bwd IAT Total                float64\n",
      " 32  Bwd IAT Mean                 float64\n",
      " 33  Bwd IAT Std                  float64\n",
      " 34  Bwd IAT Max                  float64\n",
      " 35  Bwd IAT Min                  float64\n",
      " 36  Fwd PSH Flags                int64  \n",
      " 37  Bwd PSH Flags                int64  \n",
      " 38  Fwd URG Flags                int64  \n",
      " 39  Bwd URG Flags                int64  \n",
      " 40  Fwd Header Length            int64  \n",
      " 41  Bwd Header Length            int64  \n",
      " 42  Fwd Packets/s                float64\n",
      " 43  Bwd Packets/s                float64\n",
      " 44  Min Packet Length            float64\n",
      " 45  Max Packet Length            float64\n",
      " 46  Packet Length Mean           float64\n",
      " 47  Packet Length Std            float64\n",
      " 48  Packet Length Variance       float64\n",
      " 49  FIN Flag Count               int64  \n",
      " 50  SYN Flag Count               int64  \n",
      " 51  RST Flag Count               int64  \n",
      " 52  PSH Flag Count               int64  \n",
      " 53  ACK Flag Count               int64  \n",
      " 54  URG Flag Count               int64  \n",
      " 55  CWE Flag Count               int64  \n",
      " 56  ECE Flag Count               int64  \n",
      " 57  Down/Up Ratio                float64\n",
      " 58  Average Packet Size          float64\n",
      " 59  Avg Fwd Segment Size         float64\n",
      " 60  Avg Bwd Segment Size         float64\n",
      " 61  Fwd Avg Bytes/Bulk           int64  \n",
      " 62  Fwd Avg Packets/Bulk         int64  \n",
      " 63  Fwd Avg Bulk Rate            int64  \n",
      " 64  Bwd Avg Bytes/Bulk           int64  \n",
      " 65  Bwd Avg Packets/Bulk         int64  \n",
      " 66  Bwd Avg Bulk Rate            int64  \n",
      " 67  Subflow Fwd Packets          int64  \n",
      " 68  Subflow Fwd Bytes            int64  \n",
      " 69  Subflow Bwd Packets          int64  \n",
      " 70  Subflow Bwd Bytes            int64  \n",
      " 71  Init_Win_bytes_forward       int64  \n",
      " 72  Init_Win_bytes_backward      int64  \n",
      " 73  act_data_pkt_fwd             int64  \n",
      " 74  min_seg_size_forward         int64  \n",
      " 75  Active Mean                  float64\n",
      " 76  Active Std                   float64\n",
      " 77  Active Max                   float64\n",
      " 78  Active Min                   float64\n",
      " 79  Idle Mean                    float64\n",
      " 80  Idle Std                     float64\n",
      " 81  Idle Max                     float64\n",
      " 82  Idle Min                     float64\n",
      " 83  Label                        object \n",
      "dtypes: float64(45), int64(34), object(5)\n",
      "memory usage: 1.4+ GB\n",
      "None\n"
     ]
    }
   ],
   "source": [
    "merged_df = pd.concat(\n",
    "    [ddos2018_df_cleaned, attack_ddos_2017, attack_dos_2017, attack_botnet_2017],\n",
    "    axis=0,\n",
    "    ignore_index=True\n",
    ")\n",
    "print(merged_df['Label'].value_counts())\n",
    "print(merged_df.info())"
   ]
  },
  {
   "cell_type": "code",
   "execution_count": 85,
   "metadata": {},
   "outputs": [],
   "source": [
    "merged_df.to_csv('/Users/emmalim/Desktop/DSA4263/final_data.csv', index=False)"
   ]
  }
 ],
 "metadata": {
  "kernelspec": {
   "display_name": "base",
   "language": "python",
   "name": "python3"
  },
  "language_info": {
   "codemirror_mode": {
    "name": "ipython",
    "version": 3
   },
   "file_extension": ".py",
   "mimetype": "text/x-python",
   "name": "python",
   "nbconvert_exporter": "python",
   "pygments_lexer": "ipython3",
   "version": "3.11.5"
  }
 },
 "nbformat": 4,
 "nbformat_minor": 2
}
